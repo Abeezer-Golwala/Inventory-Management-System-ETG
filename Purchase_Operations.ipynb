{
  "nbformat": 4,
  "nbformat_minor": 0,
  "metadata": {
    "colab": {
      "name": "Purchase Operations.ipynb",
      "provenance": [],
      "collapsed_sections": []
    },
    "kernelspec": {
      "name": "python3",
      "display_name": "Python 3"
    },
    "language_info": {
      "name": "python"
    }
  },
  "cells": [
    {
      "cell_type": "markdown",
      "metadata": {
        "id": "4pAKJvhW0JQh"
      },
      "source": [
        "# Inventory Management using JSON\n",
        "##Name : Abeezer Golwala\n",
        "###ETG Assignment 1 \n",
        "The code below load's data from the reords json file and request product id from the customer which they want to purchase. \n",
        "\n",
        "The data of remaining records and purchased products are stored in record and sales json respectively.   \n"
      ]
    },
    {
      "cell_type": "code",
      "metadata": {
        "id": "fVr1vxbdz4cz",
        "colab": {
          "base_uri": "https://localhost:8080/"
        },
        "outputId": "78289f75-daae-4f54-cb46-7da9e1028efc"
      },
      "source": [
        "import json\n",
        "from datetime import datetime\n",
        "\n",
        "#importing records from record.json\n",
        "fd = open(\"record.json\",'r')\n",
        "r = fd.read()\n",
        "fd.close()\n",
        "fd = open(\"sales.json\",'r')\n",
        "s = fd.read()\n",
        "fd.close()\n",
        "#initialization of purchase dictionary  and loading data in record dictionary \n",
        "purchase = json.loads(s)\n",
        "record = json.loads(r)\n",
        "#showing the records available \n",
        "print('Products Available:')\n",
        "record"
      ],
      "execution_count": 21,
      "outputs": [
        {
          "output_type": "stream",
          "name": "stdout",
          "text": [
            "Products Available:\n"
          ]
        },
        {
          "output_type": "execute_result",
          "data": {
            "text/plain": [
              "{'10001': {'exp': '06-03-2022',\n",
              "  'name': 'Amul Milk',\n",
              "  'pr': 60,\n",
              "  'prodt': 'Food',\n",
              "  'qn': 117},\n",
              " '10002': {'exp': '01-09-2022',\n",
              "  'name': 'Tata Salt',\n",
              "  'pr': 18,\n",
              "  'prodt': 'Food',\n",
              "  'qn': 20},\n",
              " '10003': {'exp': '06-06-2022',\n",
              "  'name': 'Amul Butter',\n",
              "  'pr': 230,\n",
              "  'prodt': 'Food',\n",
              "  'qn': 30},\n",
              " '10004': {'exp': '06-06-2022',\n",
              "  'name': 'Duracell Aaa Batteries',\n",
              "  'pr': 148,\n",
              "  'prodt': 'Appliances',\n",
              "  'qn': 50},\n",
              " '10005': {'exp': '06-06-2024',\n",
              "  'name': 'Usha Dry Iron',\n",
              "  'pr': 899,\n",
              "  'prodt': 'Appliances',\n",
              "  'qn': 9},\n",
              " '10006': {'exp': '07-09-2024',\n",
              "  'name': 'Modular Trio 2pin',\n",
              "  'pr': 362,\n",
              "  'prodt': 'Appliances',\n",
              "  'qn': 15},\n",
              " '10007': {'exp': '01-05-2023',\n",
              "  'name': 'Philips bulb',\n",
              "  'pr': 349,\n",
              "  'prodt': 'Electronic',\n",
              "  'qn': 90},\n",
              " '10008': {'exp': '01-04-2022',\n",
              "  'name': 'Cheese Grater',\n",
              "  'pr': 47,\n",
              "  'prodt': 'Kitchen',\n",
              "  'qn': 10},\n",
              " '10009': {'exp': '01-05-2022',\n",
              "  'name': 'Tea Stainer',\n",
              "  'pr': 55,\n",
              "  'prodt': 'Kitchen',\n",
              "  'qn': 10},\n",
              " '10010': {'exp': '01-09-2023',\n",
              "  'name': 'Fruit Knife',\n",
              "  'pr': 80,\n",
              "  'prodt': 'Kitchen',\n",
              "  'qn': 10},\n",
              " '10011': {'exp': '01-04-2023',\n",
              "  'name': 'Steel Forks',\n",
              "  'pr': 150,\n",
              "  'prodt': 'Kitchen',\n",
              "  'qn': 300},\n",
              " '10012': {'exp': '01-04-2023',\n",
              "  'name': 'Steel Spoons',\n",
              "  'pr': 150,\n",
              "  'prodt': 'Kitchen',\n",
              "  'qn': 300},\n",
              " '10013': {'exp': '15-03-2023',\n",
              "  'name': 'Sponge Scrub',\n",
              "  'pr': 65,\n",
              "  'prodt': 'Kitchen',\n",
              "  'qn': 200},\n",
              " '10014': {'exp': '01-02-2022',\n",
              "  'name': 'Swash Card',\n",
              "  'pr': 18,\n",
              "  'prodt': 'Kitchen',\n",
              "  'qn': 150},\n",
              " '10015': {'exp': '01-12-2022',\n",
              "  'name': 'Steel Scrub',\n",
              "  'pr': 40,\n",
              "  'prodt': 'Kitchen',\n",
              "  'qn': 30},\n",
              " '10016': {'exp': '01-01-2023',\n",
              "  'name': 'Broom',\n",
              "  'pr': 150,\n",
              "  'prodt': 'HomeUtilities',\n",
              "  'qn': 10},\n",
              " '10017': {'exp': '01-12-2023',\n",
              "  'name': 'Fry Pan',\n",
              "  'pr': 800,\n",
              "  'prodt': 'Kitchen',\n",
              "  'qn': 10},\n",
              " '10018': {'exp': '20-09-2021',\n",
              "  'name': 'Bread',\n",
              "  'pr': 30,\n",
              "  'prodt': 'Food',\n",
              "  'qn': 15},\n",
              " '10019': {'exp': '20-09-2021',\n",
              "  'name': 'Eggs',\n",
              "  'pr': 20,\n",
              "  'prodt': 'Food',\n",
              "  'qn': 900},\n",
              " '10020': {'exp': '30-09-2021',\n",
              "  'name': 'Curd',\n",
              "  'pr': 90,\n",
              "  'prodt': 'Food',\n",
              "  'qn': 20},\n",
              " '10021': {'exp': '10-10-2021',\n",
              "  'name': 'Dosa Batter',\n",
              "  'pr': 130,\n",
              "  'prodt': 'Food',\n",
              "  'qn': 15},\n",
              " '10022': {'exp': '01-05-2022',\n",
              "  'name': 'Amul Ghee',\n",
              "  'pr': 350,\n",
              "  'prodt': 'Food',\n",
              "  'qn': 20},\n",
              " '10023': {'exp': '01-12-2021',\n",
              "  'name': 'Red label Tea',\n",
              "  'pr': 275,\n",
              "  'prodt': 'Food',\n",
              "  'qn': 30},\n",
              " '10024': {'exp': '01-11-2022',\n",
              "  'name': 'Nescafe Coffee',\n",
              "  'pr': 130,\n",
              "  'prodt': 'Food',\n",
              "  'qn': 40},\n",
              " '10026': {'exp': '01-08-2022',\n",
              "  'name': 'Sprite',\n",
              "  'pr': 70,\n",
              "  'prodt': 'Drinks',\n",
              "  'qn': 30},\n",
              " '10027': {'exp': '01-04-2022',\n",
              "  'name': 'Hersheys Chocolate',\n",
              "  'pr': 210,\n",
              "  'prodt': 'Drinks',\n",
              "  'qn': 20},\n",
              " '10028': {'exp': '01-03-2022',\n",
              "  'name': 'Toast',\n",
              "  'pr': 30,\n",
              "  'prodt': 'Food',\n",
              "  'qn': 40},\n",
              " '10029': {'exp': '01-01-2022',\n",
              "  'name': 'Kissan Ketchup',\n",
              "  'pr': 84,\n",
              "  'prodt': 'Food',\n",
              "  'qn': 45},\n",
              " '10030': {'exp': '01-05-2022',\n",
              "  'name': 'Maggie',\n",
              "  'pr': 90,\n",
              "  'prodt': 'Food',\n",
              "  'qn': 30},\n",
              " '10031': {'exp': '01-10-2021',\n",
              "  'name': 'Fruit Cake',\n",
              "  'pr': 150,\n",
              "  'prodt': 'Food',\n",
              "  'qn': 20},\n",
              " '10032': {'exp': '01-10-2021',\n",
              "  'name': 'Chocolate Cake',\n",
              "  'pr': 150,\n",
              "  'prodt': 'Food',\n",
              "  'qn': 20},\n",
              " '10033': {'exp': '01-11-2022',\n",
              "  'name': 'Hide and Seek',\n",
              "  'pr': 35,\n",
              "  'prodt': 'Biscuits',\n",
              "  'qn': 40},\n",
              " '10034': {'exp': '01-12-2022',\n",
              "  'name': 'Good Day',\n",
              "  'pr': 35,\n",
              "  'prodt': 'Biscuits',\n",
              "  'qn': 40},\n",
              " '10035': {'exp': '01-01-2023',\n",
              "  'name': 'Black Pepper',\n",
              "  'pr': 105,\n",
              "  'prodt': 'Food',\n",
              "  'qn': 50},\n",
              " '10036': {'exp': '20-09-2022',\n",
              "  'name': 'Apple',\n",
              "  'pr': 150,\n",
              "  'prodt': 'Fruits',\n",
              "  'qn': 50},\n",
              " '10037': {'exp': '20-09-2021',\n",
              "  'name': 'Peru',\n",
              "  'pr': 45,\n",
              "  'prodt': 'Fruits',\n",
              "  'qn': 40},\n",
              " '10038': {'exp': '01-10-2021',\n",
              "  'name': 'Coconut',\n",
              "  'pr': 30,\n",
              "  'prodt': 'Fruits',\n",
              "  'qn': 8},\n",
              " '10039': {'exp': '15-09-2021',\n",
              "  'name': 'Banana',\n",
              "  'pr': 60,\n",
              "  'prodt': 'Fruits',\n",
              "  'qn': 120}}"
            ]
          },
          "metadata": {},
          "execution_count": 21
        }
      ]
    },
    {
      "cell_type": "code",
      "metadata": {
        "id": "GIyYcl0efEGa",
        "colab": {
          "base_uri": "https://localhost:8080/"
        },
        "outputId": "f4f39a9d-709e-47ce-9ab1-fb5279269326"
      },
      "source": [
        "cname = str(input(\"Enter your name: \"))\n",
        "now = datetime.now() \n",
        "dt_string = now.strftime(\"%d/%m/%Y %H:%M\")\n",
        "billno = \"Bill\"+now.strftime(\"%y%m%d%H%M%S\")\n",
        "#While loop is used if the customer wants to purchase more items\n",
        "while True:\n",
        "  ui_prod  = str(input(\"Enter the product_Id: \"))\n",
        "  ui_quant = int(input(\"Enter the quantity: \"))\n",
        "  \n",
        "  #Checking if the enter product id is available inside record dictionary\n",
        "  if ui_prod in record:  \n",
        "    \n",
        "    #checking if the records have quantity requested by the customer\n",
        "    if record[ui_prod]['qn']>= ui_quant:\n",
        "      #Displaying the data of the selected records\n",
        "      print(\"**********************************\")\n",
        "      print(\"Product: \", record[ui_prod]['name'])\n",
        "      print(\"Price: \", record[ui_prod]['pr'])\n",
        "      print(\"Product Type: \", record[ui_prod]['prodt'])\n",
        "      print(\"Expiry Date: \", record[ui_prod]['exp'])\n",
        "      print(\"Billing Amount: \", record[ui_prod]['pr'] * ui_quant)\n",
        "      print(\"**********************************\")\n",
        "      \n",
        "      #inserting into purchased items into purchase dictionary\n",
        "      now = datetime.now() \n",
        "      dt_string = now.strftime(\"%d/%m/%Y %H:%M\")\n",
        "      trans_id = \"T\"+now.strftime(\"%y%m%d%H%M%S\")\n",
        "      purchase[trans_id] = {'Bill_id':billno,\n",
        "                            'prod_id':ui_prod,\n",
        "                            'cust_name':cname,\n",
        "                            'prod_name': record[ui_prod]['name'],\n",
        "                            'pr':record[ui_prod]['pr'],\n",
        "                            'prodt':record[ui_prod]['prodt'],\n",
        "                            'qn': ui_quant, \n",
        "                            'date':dt_string,\n",
        "                            'amount':record[ui_prod]['pr'] * ui_quant}\n",
        "      #Subtracting the quantity purchased by the customer\n",
        "      record[ui_prod]['qn'] = int(record[ui_prod]['qn']) - int(ui_quant)\n",
        "    #if the quantity requested by the user exceeds the records quantity\n",
        "    else:\n",
        "      print(\"We dont not have such quantity for the product you want.\")\n",
        "  \n",
        "  #if the entered product id is not available inside record dictionary\n",
        "  else:\n",
        "    print(\"Please enter the proper product_ID as requested doesnt exist\")\n",
        "    print(\"**********************************\")\n",
        "    \n",
        "  #Checking if the customer wants to buy more products\n",
        "  choice = input('Do you want to continue? Y/N : ')\n",
        "  if choice =='N':\n",
        "    break\n",
        "  else:\n",
        "    continue"
      ],
      "execution_count": 33,
      "outputs": [
        {
          "name": "stdout",
          "output_type": "stream",
          "text": [
            "Enter your name: AbeezerGolwala\n",
            "Enter the product_Id: 10041\n",
            "Enter the quantity: 15\n",
            "Please enter the proper product_ID as requested doesnt exist\n",
            "**********************************\n",
            "Do you want to continue? Y/N : Y\n",
            "Enter the product_Id: 100031\n",
            "Enter the quantity: 10\n",
            "Please enter the proper product_ID as requested doesnt exist\n",
            "**********************************\n",
            "Do you want to continue? Y/N : Y\n",
            "Enter the product_Id: 100032\n",
            "Enter the quantity: 1\n",
            "Please enter the proper product_ID as requested doesnt exist\n",
            "**********************************\n",
            "Do you want to continue? Y/N : Y\n",
            "Enter the product_Id: 10031\n",
            "Enter the quantity: 10\n",
            "**********************************\n",
            "Product:  Fruit Cake\n",
            "Price:  150\n",
            "Product Type:  Food\n",
            "Expiry Date:  01-10-2021\n",
            "Billing Amount:  1500\n",
            "**********************************\n",
            "Do you want to continue? Y/N : Y\n",
            "Enter the product_Id: 10001\n",
            "Enter the quantity: 2\n",
            "**********************************\n",
            "Product:  Amul Milk\n",
            "Price:  60\n",
            "Product Type:  Food\n",
            "Expiry Date:  06-03-2022\n",
            "Billing Amount:  120\n",
            "**********************************\n",
            "Do you want to continue? Y/N : Y\n",
            "Enter the product_Id: 10005\n",
            "Enter the quantity: 1\n",
            "**********************************\n",
            "Product:  Usha Dry Iron\n",
            "Price:  899\n",
            "Product Type:  Appliances\n",
            "Expiry Date:  06-06-2024\n",
            "Billing Amount:  899\n",
            "**********************************\n",
            "Do you want to continue? Y/N : Y\n",
            "Enter the product_Id: 10006\n",
            "Enter the quantity: 2\n",
            "**********************************\n",
            "Product:  Modular Trio 2pin\n",
            "Price:  362\n",
            "Product Type:  Appliances\n",
            "Expiry Date:  07-09-2024\n",
            "Billing Amount:  724\n",
            "**********************************\n",
            "Do you want to continue? Y/N : N\n"
          ]
        }
      ]
    },
    {
      "cell_type": "code",
      "metadata": {
        "colab": {
          "base_uri": "https://localhost:8080/"
        },
        "id": "a6yfCeUWqoyF",
        "outputId": "fcb8abd8-7af4-4ff7-9aa0-375f0e10cf95"
      },
      "source": [
        "for key in purchase:\n",
        "  if billno == purchase[key]['Bill_id']:\n",
        "    print(purchase[key])"
      ],
      "execution_count": 37,
      "outputs": [
        {
          "output_type": "stream",
          "name": "stdout",
          "text": [
            "{'Bill_id': 'Bill210906122637', 'prod_id': '10031', 'cust_name': 'AbeezerGolwala', 'prod_name': 'Fruit Cake', 'pr': 150, 'prodt': 'Food', 'qn': 10, 'date': '06/09/2021 12:28', 'amount': 1500}\n",
            "{'Bill_id': 'Bill210906122637', 'prod_id': '10001', 'cust_name': 'AbeezerGolwala', 'prod_name': 'Amul Milk', 'pr': 60, 'prodt': 'Food', 'qn': 2, 'date': '06/09/2021 12:29', 'amount': 120}\n",
            "{'Bill_id': 'Bill210906122637', 'prod_id': '10005', 'cust_name': 'AbeezerGolwala', 'prod_name': 'Usha Dry Iron', 'pr': 899, 'prodt': 'Appliances', 'qn': 1, 'date': '06/09/2021 12:29', 'amount': 899}\n",
            "{'Bill_id': 'Bill210906122637', 'prod_id': '10006', 'cust_name': 'AbeezerGolwala', 'prod_name': 'Modular Trio 2pin', 'pr': 362, 'prodt': 'Appliances', 'qn': 2, 'date': '06/09/2021 12:29', 'amount': 724}\n"
          ]
        }
      ]
    },
    {
      "cell_type": "markdown",
      "metadata": {
        "id": "OPv-hfKXg_8l"
      },
      "source": [
        "#Editing the bill transaction details"
      ]
    },
    {
      "cell_type": "code",
      "metadata": {
        "id": "cRVeIbYynHaY",
        "colab": {
          "base_uri": "https://localhost:8080/"
        },
        "outputId": "ded9e1f1-2d9b-4983-af6d-cb7f2b9b5820"
      },
      "source": [
        "while True:\n",
        "  chc = str(input(\"Do you want to confirm this order Y/N: \"))\n",
        "  if chc =='Y':\n",
        "    break\n",
        "  else:\n",
        "    chan = input(\"1. Remove an Item 2. Edit qty of an item: \")\n",
        "    trid = str(input(\"Transaction Id which you want to edit or remove: \"))\n",
        "    if trid in purchase:\n",
        "      if chan == '1':\n",
        "        del purchase[trid]\n",
        "      elif chan == '2':\n",
        "        nqty = int(input(\"Enter the quantity you want: \"))\n",
        "        if nqty <=record[ui_prod]['qn']:\n",
        "          prod_id = purchase[trans_id]['prod_id']\n",
        "          record[prod_id]['qn'] += int(purchase[trans_id]['qn'])\n",
        "          purchase[trans_id]['qn'] = int(nqty)\n",
        "          record[prod_id]['qn'] -= int(purchase[trans_id]['qn'])\n",
        "          purchase[trans_id]['amount'] = int(nqty) * purchase[trans_id]['pr']\n",
        "        else:\n",
        "          print(\"We dont not have such quantity for the product you want.\")\n",
        "    else:\n",
        "      print(\"Wrong Transaction id entered\")\n",
        "  continue"
      ],
      "execution_count": 24,
      "outputs": [
        {
          "name": "stdout",
          "output_type": "stream",
          "text": [
            "Do you want to confirm this order Y/NY\n"
          ]
        }
      ]
    },
    {
      "cell_type": "markdown",
      "metadata": {
        "id": "O1lC6XXmwxiQ"
      },
      "source": [
        "##Deleting zero quantity items from the Record dictionary"
      ]
    },
    {
      "cell_type": "code",
      "metadata": {
        "id": "emskP8IUsZAO"
      },
      "source": [
        "\n",
        "for key in purchase:\n",
        "  prod_id = purchase[key]['prod_id']\n",
        "  #if the quantity has reached 0 after subtraction the product will be deleted\n",
        "  if int(record[prod_id]['qn']) == 0:\n",
        "    del record[prod_id]"
      ],
      "execution_count": 17,
      "outputs": []
    },
    {
      "cell_type": "markdown",
      "metadata": {
        "id": "PXNFvcOYB6Z3"
      },
      "source": [
        "##Finalization of bill "
      ]
    },
    {
      "cell_type": "code",
      "metadata": {
        "colab": {
          "base_uri": "https://localhost:8080/"
        },
        "id": "q1giJYC1nzsW",
        "outputId": "e20109b7-6952-4e0a-ccdb-aecdc9fcfc58"
      },
      "source": [
        "print(\"Your final bill is\")\n",
        "print(\"**********************************************\")\n",
        "print(\"Customer Name : \",cname )\n",
        "print(\"Bill Number : \", billno)\n",
        "print(\"**********************************************\")\n",
        "print(\"Product\\t\\tPrice\\tQauntity\\tTotal\")\n",
        "grandtotal = 0\n",
        "for key in purchase:\n",
        "  if billno == purchase[key]['Bill_id']:\n",
        "    print(str(purchase[key]['prod_name'])+\"\\t\"\n",
        "    +str(purchase[key]['pr'])+\"\\t\"\n",
        "    +str(purchase[key]['qn'])+\"\\t\\t\"\n",
        "    +str(purchase[key]['amount']))\n",
        "    grandtotal += int(purchase[key]['amount'])\n",
        "print(\"**********************************************\")\n",
        "print(\"Your Grand Total = \"+str(grandtotal))\n",
        "print(\"~~~~~~~~~~~~~~~~Happy Shopping~~~~~~~~~~~~~~~~\")"
      ],
      "execution_count": 38,
      "outputs": [
        {
          "output_type": "stream",
          "name": "stdout",
          "text": [
            "Your final bill is\n",
            "**********************************************\n",
            "Customer Name :  AbeezerGolwala\n",
            "Bill Number :  Bill210906122637\n",
            "**********************************************\n",
            "Product\t\tPrice\tQauntity\tTotal\n",
            "Fruit Cake\t150\t10\t\t1500\n",
            "Amul Milk\t60\t2\t\t120\n",
            "Usha Dry Iron\t899\t1\t\t899\n",
            "Modular Trio 2pin\t362\t2\t\t724\n",
            "**********************************************\n",
            "Your Grand Total = 3243\n",
            "~~~~~~~~~~~~~~~~Happy Shopping~~~~~~~~~~~~~~~~\n"
          ]
        }
      ]
    },
    {
      "cell_type": "markdown",
      "metadata": {
        "id": "42z9MFgDm1Gx"
      },
      "source": [
        "#Appending values into Transaction sales.json \n",
        "#And Dumping remaining data into record.json"
      ]
    },
    {
      "cell_type": "code",
      "metadata": {
        "id": "VXmeCtI2mzWd"
      },
      "source": [
        "js = json.dumps(record)\n",
        "\n",
        "fd = open(\"record.json\",'w')\n",
        "fd.write(js)\n",
        "fd.close()\n",
        "\n",
        "jss = json.dumps(purchase)\n",
        "fd = open(\"sales.json\",'w')\n",
        "fd.write(jss)\n",
        "fd.close()\n",
        "\n"
      ],
      "execution_count": 39,
      "outputs": []
    }
  ]
}