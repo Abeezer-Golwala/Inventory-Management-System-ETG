{
  "nbformat": 4,
  "nbformat_minor": 0,
  "metadata": {
    "colab": {
      "name": "Transaction Detials",
      "provenance": [],
      "collapsed_sections": []
    },
    "kernelspec": {
      "name": "python3",
      "display_name": "Python 3"
    },
    "language_info": {
      "name": "python"
    }
  },
  "cells": [
    {
      "cell_type": "markdown",
      "metadata": {
        "id": "sOAGHrpMNa-O"
      },
      "source": [
        "# Inventory Management using JSON\n",
        "##Name : Abeezer Golwala\n",
        "###ETG Assignment 1 \n",
        "###The below code is used for view transaction from sales.json"
      ]
    },
    {
      "cell_type": "code",
      "metadata": {
        "colab": {
          "base_uri": "https://localhost:8080/"
        },
        "id": "ggRVdxjtM4KP",
        "outputId": "a4c34513-a95d-4bcb-d4da-5e94c068fe9c"
      },
      "source": [
        "import json\n",
        "from datetime import datetime\n",
        "#importing records from record.json\n",
        "fd = open(\"sales.json\",'r')\n",
        "s = fd.read()\n",
        "fd.close()\n",
        "#initialization of purchase dictionary  and loading data in record dictionary \n",
        "sales = json.loads(s)\n",
        "#showing the records available \n",
        "print('All Transaction:')\n",
        "sales"
      ],
      "execution_count": 10,
      "outputs": [
        {
          "output_type": "stream",
          "name": "stdout",
          "text": [
            "All Transaction:\n"
          ]
        },
        {
          "output_type": "execute_result",
          "data": {
            "text/plain": [
              "{'T210806121253': {'Bill_id': 'Bill210806121203',\n",
              "  'amount': 90,\n",
              "  'cust_name': 'Bruce',\n",
              "  'date': '06/08/2021 12:12',\n",
              "  'pr': 30,\n",
              "  'prod_id': '10038',\n",
              "  'prod_name': 'Coconut',\n",
              "  'prodt': 'Fruits',\n",
              "  'qn': 3},\n",
              " 'T210905121241': {'Bill_id': 'Bill210905121203',\n",
              "  'amount': 300,\n",
              "  'cust_name': 'Bruce',\n",
              "  'date': '05/09/2021 12:12',\n",
              "  'pr': 150,\n",
              "  'prod_id': '10036',\n",
              "  'prod_name': 'Apple',\n",
              "  'prodt': 'Fruits',\n",
              "  'qn': 2},\n",
              " 'T210906120635': {'Bill_id': 'Bill210906120600',\n",
              "  'amount': 899,\n",
              "  'cust_name': 'Abeezer',\n",
              "  'date': '06/09/2021 12:06',\n",
              "  'pr': 899,\n",
              "  'prod_id': '10005',\n",
              "  'prod_name': 'Usha Dry Iron',\n",
              "  'prodt': 'Appliances',\n",
              "  'qn': 1},\n",
              " 'T210906120656': {'Bill_id': 'Bill210906120600',\n",
              "  'amount': 60,\n",
              "  'cust_name': 'Abeezer',\n",
              "  'date': '06/09/2021 12:06',\n",
              "  'pr': 30,\n",
              "  'prod_id': '10038',\n",
              "  'prod_name': 'Coconut',\n",
              "  'prodt': 'Fruits',\n",
              "  'qn': 2},\n",
              " 'T210906120754': {'Bill_id': 'Bill210906120600',\n",
              "  'amount': 180,\n",
              "  'cust_name': 'Abeezer',\n",
              "  'date': '06/09/2021 12:07',\n",
              "  'pr': 60,\n",
              "  'prod_id': '10001',\n",
              "  'prod_name': 'Amul Milk',\n",
              "  'prodt': 'Food',\n",
              "  'qn': 3},\n",
              " 'T210906121210': {'Bill_id': 'Bill210906121203',\n",
              "  'amount': 450,\n",
              "  'cust_name': 'Bruce',\n",
              "  'date': '06/09/2021 12:12',\n",
              "  'pr': 90,\n",
              "  'prod_id': '10030',\n",
              "  'prod_name': 'Maggie',\n",
              "  'prodt': 'Food',\n",
              "  'qn': 5},\n",
              " 'T210906121306': {'Bill_id': 'Bill210906121203',\n",
              "  'amount': 180,\n",
              "  'cust_name': 'Bruce',\n",
              "  'date': '06/09/2021 12:13',\n",
              "  'pr': 30,\n",
              "  'prod_id': '10018',\n",
              "  'prod_name': 'Bread',\n",
              "  'prodt': 'Food',\n",
              "  'qn': 6},\n",
              " 'T210906122847': {'Bill_id': 'Bill210906122637',\n",
              "  'amount': 1500,\n",
              "  'cust_name': 'AbeezerGolwala',\n",
              "  'date': '06/09/2021 12:28',\n",
              "  'pr': 150,\n",
              "  'prod_id': '10031',\n",
              "  'prod_name': 'Fruit Cake',\n",
              "  'prodt': 'Food',\n",
              "  'qn': 10},\n",
              " 'T210906122900': {'Bill_id': 'Bill210906122637',\n",
              "  'amount': 120,\n",
              "  'cust_name': 'AbeezerGolwala',\n",
              "  'date': '06/09/2021 12:29',\n",
              "  'pr': 60,\n",
              "  'prod_id': '10001',\n",
              "  'prod_name': 'Amul Milk',\n",
              "  'prodt': 'Food',\n",
              "  'qn': 2},\n",
              " 'T210906122907': {'Bill_id': 'Bill210906122637',\n",
              "  'amount': 899,\n",
              "  'cust_name': 'AbeezerGolwala',\n",
              "  'date': '06/09/2021 12:29',\n",
              "  'pr': 899,\n",
              "  'prod_id': '10005',\n",
              "  'prod_name': 'Usha Dry Iron',\n",
              "  'prodt': 'Appliances',\n",
              "  'qn': 1},\n",
              " 'T210906122921': {'Bill_id': 'Bill210906122637',\n",
              "  'amount': 724,\n",
              "  'cust_name': 'AbeezerGolwala',\n",
              "  'date': '06/09/2021 12:29',\n",
              "  'pr': 362,\n",
              "  'prod_id': '10006',\n",
              "  'prod_name': 'Modular Trio 2pin',\n",
              "  'prodt': 'Appliances',\n",
              "  'qn': 2}}"
            ]
          },
          "metadata": {},
          "execution_count": 10
        }
      ]
    },
    {
      "cell_type": "markdown",
      "metadata": {
        "id": "EbF1YVwia7aO"
      },
      "source": [
        "Viewing transactions in a certain month\n",
        "\n"
      ]
    },
    {
      "cell_type": "code",
      "metadata": {
        "colab": {
          "base_uri": "https://localhost:8080/"
        },
        "id": "7CrdCMV2O2VI",
        "outputId": "dbfdbb91-d9f4-46dd-f57a-74b6b61cb0af"
      },
      "source": [
        "mn = input(\"Enter month in 2 digits form you want to see transaction of: \")\n",
        "for key in sales:\n",
        "  if key[3:5] == mn:\n",
        "    print(sales[key])"
      ],
      "execution_count": 11,
      "outputs": [
        {
          "output_type": "stream",
          "name": "stdout",
          "text": [
            "Enter month in 2 digits form you want to see transaction of: 08\n",
            "{'Bill_id': 'Bill210806121203', 'prod_id': '10038', 'cust_name': 'Bruce', 'prod_name': 'Coconut', 'pr': 30, 'prodt': 'Fruits', 'qn': 3, 'date': '06/08/2021 12:12', 'amount': 90}\n"
          ]
        }
      ]
    },
    {
      "cell_type": "markdown",
      "metadata": {
        "id": "6WOPrkASbFqS"
      },
      "source": [
        "Viewing transactions in a certain date\n",
        "\n",
        "\n"
      ]
    },
    {
      "cell_type": "code",
      "metadata": {
        "colab": {
          "base_uri": "https://localhost:8080/"
        },
        "id": "v7ane1jwbFqV",
        "outputId": "9cf04d12-229d-42e5-df96-9de63b8fbc37"
      },
      "source": [
        "mn = input(\"Enter Date in 6 digits form you want to see transaction of YYMMDD : \")\n",
        "for key in sales:\n",
        "  if key[1:7] == mn:\n",
        "    print(sales[key])"
      ],
      "execution_count": 12,
      "outputs": [
        {
          "output_type": "stream",
          "name": "stdout",
          "text": [
            "Enter Date in 6 digits form you want to see transaction of YYMMDD : 210905\n",
            "{'Bill_id': 'Bill210905121203', 'prod_id': '10036', 'cust_name': 'Bruce', 'prod_name': 'Apple', 'pr': 150, 'prodt': 'Fruits', 'qn': 2, 'date': '05/09/2021 12:12', 'amount': 300}\n"
          ]
        }
      ]
    },
    {
      "cell_type": "markdown",
      "metadata": {
        "id": "3f0EOO6pci0g"
      },
      "source": [
        "Viewing transactions of a certain Customer\n",
        "\n",
        "\n",
        "\n",
        "\n"
      ]
    },
    {
      "cell_type": "code",
      "metadata": {
        "colab": {
          "base_uri": "https://localhost:8080/"
        },
        "id": "9470eSjqci1E",
        "outputId": "cd589779-9516-495c-e7e8-dccbbb9cddca"
      },
      "source": [
        "name = input(\"Enter name you want to see transactions of: \")\n",
        "for key in sales:\n",
        "  if str(sales[key]['cust_name']) == name:\n",
        "    print(sales[key])"
      ],
      "execution_count": 13,
      "outputs": [
        {
          "output_type": "stream",
          "name": "stdout",
          "text": [
            "Enter name you want to see transactions of: Abeezer\n",
            "{'Bill_id': 'Bill210906120600', 'prod_id': '10005', 'cust_name': 'Abeezer', 'prod_name': 'Usha Dry Iron', 'pr': 899, 'prodt': 'Appliances', 'qn': 1, 'date': '06/09/2021 12:06', 'amount': 899}\n",
            "{'Bill_id': 'Bill210906120600', 'prod_id': '10038', 'cust_name': 'Abeezer', 'prod_name': 'Coconut', 'pr': 30, 'prodt': 'Fruits', 'qn': 2, 'date': '06/09/2021 12:06', 'amount': 60}\n",
            "{'Bill_id': 'Bill210906120600', 'prod_id': '10001', 'cust_name': 'Abeezer', 'prod_name': 'Amul Milk', 'pr': 60, 'prodt': 'Food', 'qn': 3, 'date': '06/09/2021 12:07', 'amount': 180}\n"
          ]
        }
      ]
    },
    {
      "cell_type": "markdown",
      "metadata": {
        "id": "0JeyqrNDfHfs"
      },
      "source": [
        "Viewing transactions of a certain Category product\n",
        "\n",
        "\n",
        "\n",
        "\n",
        "\n"
      ]
    },
    {
      "cell_type": "code",
      "metadata": {
        "colab": {
          "base_uri": "https://localhost:8080/"
        },
        "id": "dapHD6NnfHgQ",
        "outputId": "d0df2962-2075-4da3-c397-0fddffcbe494"
      },
      "source": [
        "category = input(\"Enter name you want to see transactions of: \")\n",
        "for key in sales:\n",
        "  if str(sales[key]['prodt']) == category:\n",
        "    print(sales[key])"
      ],
      "execution_count": 15,
      "outputs": [
        {
          "output_type": "stream",
          "name": "stdout",
          "text": [
            "Enter name you want to see transactions of: Fruits\n",
            "{'Bill_id': 'Bill210906120600', 'prod_id': '10038', 'cust_name': 'Abeezer', 'prod_name': 'Coconut', 'pr': 30, 'prodt': 'Fruits', 'qn': 2, 'date': '06/09/2021 12:06', 'amount': 60}\n",
            "{'Bill_id': 'Bill210905121203', 'prod_id': '10036', 'cust_name': 'Bruce', 'prod_name': 'Apple', 'pr': 150, 'prodt': 'Fruits', 'qn': 2, 'date': '05/09/2021 12:12', 'amount': 300}\n",
            "{'Bill_id': 'Bill210806121203', 'prod_id': '10038', 'cust_name': 'Bruce', 'prod_name': 'Coconut', 'pr': 30, 'prodt': 'Fruits', 'qn': 3, 'date': '06/08/2021 12:12', 'amount': 90}\n"
          ]
        }
      ]
    }
  ]
}