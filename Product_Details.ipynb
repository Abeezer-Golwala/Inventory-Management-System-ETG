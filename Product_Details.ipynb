{
  "nbformat": 4,
  "nbformat_minor": 0,
  "metadata": {
    "colab": {
      "name": "Product Details.ipynb",
      "provenance": [],
      "collapsed_sections": []
    },
    "kernelspec": {
      "name": "python3",
      "display_name": "Python 3"
    },
    "language_info": {
      "name": "python"
    }
  },
  "cells": [
    {
      "cell_type": "markdown",
      "metadata": {
        "id": "K2iKYswP9lIS"
      },
      "source": [
        "# Inventory Management using JSON\n",
        "##Name : Abeezer Golwala\n",
        "###ETG Assignment 1 \n",
        "###The below code is used for inserting , editing and deleting records from record.json"
      ]
    },
    {
      "cell_type": "markdown",
      "metadata": {
        "id": "Ok_unA97Beqx"
      },
      "source": [
        "###Loading data from record.json into record dictionary to perform operations"
      ]
    },
    {
      "cell_type": "code",
      "metadata": {
        "colab": {
          "base_uri": "https://localhost:8080/"
        },
        "id": "2XnCWzLdeINI",
        "outputId": "de2e799f-ba77-44f9-a6d6-c6f793dbf42c"
      },
      "source": [
        "import json\n",
        "fd = open(\"record.json\",'r')\n",
        "r = fd.read()\n",
        "fd.close()\n",
        "record = json.loads(r)\n",
        "record"
      ],
      "execution_count": 24,
      "outputs": [
        {
          "output_type": "execute_result",
          "data": {
            "text/plain": [
              "{'10001': {'exp': '06-03-2022',\n",
              "  'name': 'Amul Milk',\n",
              "  'pr': 60,\n",
              "  'prodt': 'Food',\n",
              "  'qn': 120},\n",
              " '10002': {'exp': '01-09-2022',\n",
              "  'name': 'Tata Salt',\n",
              "  'pr': 18,\n",
              "  'prodt': 'Food',\n",
              "  'qn': 20},\n",
              " '10003': {'exp': '06-06-2022',\n",
              "  'name': 'Amul Butter',\n",
              "  'pr': 230,\n",
              "  'prodt': 'Food',\n",
              "  'qn': 30},\n",
              " '10004': {'exp': '06-06-2022',\n",
              "  'name': 'Duracell Aaa Batteries',\n",
              "  'pr': 148,\n",
              "  'prodt': 'Appliances',\n",
              "  'qn': 50},\n",
              " '10005': {'exp': '06-06-2024',\n",
              "  'name': 'Usha Dry Iron',\n",
              "  'pr': 899,\n",
              "  'prodt': 'Appliances',\n",
              "  'qn': 10},\n",
              " '10006': {'exp': '07-09-2024',\n",
              "  'name': 'Modular Trio 2pin',\n",
              "  'pr': 362,\n",
              "  'prodt': 'Appliances',\n",
              "  'qn': 15},\n",
              " '10007': {'exp': '01-05-2023',\n",
              "  'name': 'Philips bulb',\n",
              "  'pr': 349,\n",
              "  'prodt': 'Electronic',\n",
              "  'qn': 90},\n",
              " '10008': {'exp': '01-04-2022',\n",
              "  'name': 'Cheese Grater',\n",
              "  'pr': 47,\n",
              "  'prodt': 'Kitchen',\n",
              "  'qn': 10},\n",
              " '10009': {'exp': '01-05-2022',\n",
              "  'name': 'Tea Stainer',\n",
              "  'pr': 55,\n",
              "  'prodt': 'Kitchen',\n",
              "  'qn': 10},\n",
              " '10010': {'exp': '01-09-2023',\n",
              "  'name': 'Fruit Knife',\n",
              "  'pr': 80,\n",
              "  'prodt': 'Kitchen',\n",
              "  'qn': 10},\n",
              " '10011': {'exp': '01-04-2023',\n",
              "  'name': 'Steel Forks',\n",
              "  'pr': 150,\n",
              "  'prodt': 'Kitchen',\n",
              "  'qn': 300},\n",
              " '10012': {'exp': '01-04-2023',\n",
              "  'name': 'Steel Spoons',\n",
              "  'pr': 150,\n",
              "  'prodt': 'Kitchen',\n",
              "  'qn': 300},\n",
              " '10013': {'exp': '15-03-2023',\n",
              "  'name': 'Sponge Scrub',\n",
              "  'pr': 65,\n",
              "  'prodt': 'Kitchen',\n",
              "  'qn': 200},\n",
              " '10014': {'exp': '01-02-2022',\n",
              "  'name': 'Swash Card',\n",
              "  'pr': 18,\n",
              "  'prodt': 'Kitchen',\n",
              "  'qn': 150},\n",
              " '10015': {'exp': '01-12-2022',\n",
              "  'name': 'Steel Scrub',\n",
              "  'pr': 40,\n",
              "  'prodt': 'Kitchen',\n",
              "  'qn': 30},\n",
              " '10016': {'exp': '01-01-2023',\n",
              "  'name': 'Broom',\n",
              "  'pr': 150,\n",
              "  'prodt': 'HomeUtilities',\n",
              "  'qn': 10},\n",
              " '10017': {'exp': '01-12-2023',\n",
              "  'name': 'Fry Pan',\n",
              "  'pr': 800,\n",
              "  'prodt': 'Kitchen',\n",
              "  'qn': 10},\n",
              " '10018': {'exp': '20-09-2021',\n",
              "  'name': 'Bread',\n",
              "  'pr': 30,\n",
              "  'prodt': 'Food',\n",
              "  'qn': 15},\n",
              " '10019': {'exp': '20-09-2021',\n",
              "  'name': 'Eggs',\n",
              "  'pr': 20,\n",
              "  'prodt': 'Food',\n",
              "  'qn': 900},\n",
              " '10020': {'exp': '30-09-2021',\n",
              "  'name': 'Curd',\n",
              "  'pr': 90,\n",
              "  'prodt': 'Food',\n",
              "  'qn': 20},\n",
              " '10021': {'exp': '10-10-2021',\n",
              "  'name': 'Dosa Batter',\n",
              "  'pr': 130,\n",
              "  'prodt': 'Food',\n",
              "  'qn': 15},\n",
              " '10022': {'exp': '01-05-2022',\n",
              "  'name': 'Amul Ghee',\n",
              "  'pr': 350,\n",
              "  'prodt': 'Food',\n",
              "  'qn': 20},\n",
              " '10023': {'exp': '01-12-2021',\n",
              "  'name': 'Red label Tea',\n",
              "  'pr': 275,\n",
              "  'prodt': 'Food',\n",
              "  'qn': 30},\n",
              " '10024': {'exp': '01-11-2022',\n",
              "  'name': 'Nescafe Coffee',\n",
              "  'pr': 130,\n",
              "  'prodt': 'Food',\n",
              "  'qn': 40},\n",
              " '10025': {'exp': '01-02-2022',\n",
              "  'name': 'Thumbs Up',\n",
              "  'pr': 68,\n",
              "  'prodt': 'Drinks',\n",
              "  'qn': 25},\n",
              " '10026': {'exp': '01-08-2022',\n",
              "  'name': 'Sprite',\n",
              "  'pr': 70,\n",
              "  'prodt': 'Drinks',\n",
              "  'qn': 30},\n",
              " '10027': {'exp': '01-04-2022',\n",
              "  'name': 'Hersheys Chocolate',\n",
              "  'pr': 210,\n",
              "  'prodt': 'Drinks',\n",
              "  'qn': 20},\n",
              " '10028': {'exp': '01-03-2022',\n",
              "  'name': 'Toast',\n",
              "  'pr': 30,\n",
              "  'prodt': 'Food',\n",
              "  'qn': 40},\n",
              " '10029': {'exp': '01-01-2022',\n",
              "  'name': 'Kissan Ketchup',\n",
              "  'pr': 84,\n",
              "  'prodt': 'Food',\n",
              "  'qn': 45},\n",
              " '10030': {'exp': '01-05-2022',\n",
              "  'name': 'Maggie',\n",
              "  'pr': 90,\n",
              "  'prodt': 'Food',\n",
              "  'qn': 30},\n",
              " '10031': {'exp': '01-10-2021',\n",
              "  'name': 'Fruit Cake',\n",
              "  'pr': 150,\n",
              "  'prodt': 'Food',\n",
              "  'qn': 20},\n",
              " '10032': {'exp': '01-10-2021',\n",
              "  'name': 'Chocolate Cake',\n",
              "  'pr': 150,\n",
              "  'prodt': 'Food',\n",
              "  'qn': 20},\n",
              " '10033': {'exp': '01-11-2022',\n",
              "  'name': 'Hide and Seek',\n",
              "  'pr': 35,\n",
              "  'prodt': 'Biscuits',\n",
              "  'qn': 40},\n",
              " '10034': {'exp': '01-12-2022',\n",
              "  'name': 'Good Day',\n",
              "  'pr': 35,\n",
              "  'prodt': 'Biscuits',\n",
              "  'qn': 40},\n",
              " '10035': {'exp': '01-01-2023',\n",
              "  'name': 'Black Pepper',\n",
              "  'pr': 105,\n",
              "  'prodt': 'Food',\n",
              "  'qn': 50},\n",
              " '10036': {'exp': '20-09-2022',\n",
              "  'name': 'Apple',\n",
              "  'pr': 150,\n",
              "  'prodt': 'Fruits',\n",
              "  'qn': 50},\n",
              " '10037': {'exp': '20-09-2021',\n",
              "  'name': 'Peru',\n",
              "  'pr': 45,\n",
              "  'prodt': 'Fruits',\n",
              "  'qn': 40},\n",
              " '10038': {'exp': '01-10-2021',\n",
              "  'name': 'Coconut',\n",
              "  'pr': 30,\n",
              "  'prodt': 'Fruits',\n",
              "  'qn': 10},\n",
              " '10039': {'exp': '15-09-2021',\n",
              "  'name': 'Banana',\n",
              "  'pr': 60,\n",
              "  'prodt': 'Fruits',\n",
              "  'qn': 120}}"
            ]
          },
          "metadata": {},
          "execution_count": 24
        }
      ]
    },
    {
      "cell_type": "markdown",
      "metadata": {
        "id": "V5yeNTte-Gwx"
      },
      "source": [
        "###Inserting Records & Editing Records into record.json"
      ]
    },
    {
      "cell_type": "code",
      "metadata": {
        "colab": {
          "base_uri": "https://localhost:8080/"
        },
        "id": "XnuiElfK4Cu3",
        "outputId": "cb347989-5cb5-4f69-aad8-ee3acaf776d8"
      },
      "source": [
        "while True:\n",
        "  prod_id = str(input(\"Enter product id:\"))\n",
        "  name = str(input(\"Enter name:\"))\n",
        "  prod_type = str(input(\"Enter Prouct Category:\"))\n",
        "  pr = int(input(\"Enter Price:\"))\n",
        "  qn = int(input(\"Enter Quantity:\"))\n",
        "  exp = str(input(\"Enter Expiry Date:\"))\n",
        "  if prod_id in record:\n",
        "    print(prod_id+ \" has \" + record[prod_id][qn])\n",
        "    ch1 = intput(\"Do you want to append the quantity Y/N\")\n",
        "    if ch1 == 'Y':\n",
        "      qn = int(record[prod_id][qn]) + int(qn)\n",
        "  record[prod_id] = {'name': name,\n",
        "                     'pr': int(pr),\n",
        "                     'prodt': prod_type,\n",
        "                     'qn': int(qn),\n",
        "                     'exp':exp}\n",
        "  ch = input(\"Do you want to add more records Y/N: \")\n",
        "  if ch == 'N':\n",
        "    break\n",
        "  else:\n",
        "    continue"
      ],
      "execution_count": 21,
      "outputs": [
        {
          "name": "stdout",
          "output_type": "stream",
          "text": [
            "Enter product id:10040\n",
            "Enter name:Cadbury Silk\n",
            "Enter Prouct Category:Food\n",
            "Enter Price:90\n",
            "Enter Quantity:30\n",
            "Enter Expiry Date:09-03-2022\n",
            "Do you want to add more records Y/N: N\n"
          ]
        }
      ]
    },
    {
      "cell_type": "markdown",
      "metadata": {
        "id": "n6sbTT0OATXn"
      },
      "source": [
        "###Deleting items from record"
      ]
    },
    {
      "cell_type": "code",
      "metadata": {
        "colab": {
          "base_uri": "https://localhost:8080/"
        },
        "id": "6zJn89caASpJ",
        "outputId": "bf561a72-a2d9-44d9-9b40-57f4e47f67fb"
      },
      "source": [
        "while True:\n",
        "  prod_id = input(\"Enter product id you want to remove:\")\n",
        "  if prod_id in record:\n",
        "    del record[prod_id]\n",
        "  else:\n",
        "    print(\"Product doesnt exist or is already removed\")\n",
        "  ch2 = input(\"Do you want to delete more records Y/N :\")\n",
        "  if ch2 == 'N':\n",
        "    break\n",
        "  else:\n",
        "    continue\n"
      ],
      "execution_count": 25,
      "outputs": [
        {
          "name": "stdout",
          "output_type": "stream",
          "text": [
            "Enter product id you want to remove:10025\n",
            "Do you want to delete more records Y/N :N\n"
          ]
        }
      ]
    },
    {
      "cell_type": "markdown",
      "metadata": {
        "id": "Hi5bsHGJ-U_a"
      },
      "source": [
        "##Dumping Records into record.json for storage"
      ]
    },
    {
      "cell_type": "code",
      "metadata": {
        "id": "38bH9CCc05Qn"
      },
      "source": [
        "js = json.dumps(record)\n",
        "fd = open(\"record.json\",'w')\n",
        "fd.write(js)\n",
        "fd.close()"
      ],
      "execution_count": 26,
      "outputs": []
    }
  ]
}